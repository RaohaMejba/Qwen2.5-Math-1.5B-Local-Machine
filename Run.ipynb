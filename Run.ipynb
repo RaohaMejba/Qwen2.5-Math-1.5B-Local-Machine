{
 "cells": [
  {
   "cell_type": "code",
   "execution_count": 1,
   "id": "47eb4e25-4924-4f4a-91ef-28761b7ddf17",
   "metadata": {},
   "outputs": [],
   "source": [
    "import torch\n",
    "from transformers import AutoTokenizer, AutoModelForCausalLM"
   ]
  },
  {
   "cell_type": "code",
   "execution_count": 12,
   "id": "3e02a6d9-e496-4d4f-a311-1424f014a7dd",
   "metadata": {},
   "outputs": [],
   "source": [
    "tokenizer = AutoTokenizer.from_pretrained('/Users/raoha_50/Downloads/DeepSeek 1.5B')\n",
    "model = AutoModelForCausalLM.from_pretrained('/Users/raoha_50/Downloads/DeepSeek 1.5B',torch_dtype=torch.bfloat16)"
   ]
  },
  {
   "cell_type": "code",
   "execution_count": 14,
   "id": "991bdea9-5982-4207-8d4f-ac78d56b9978",
   "metadata": {},
   "outputs": [
    {
     "data": {
      "text/plain": [
       "{'input_ids': tensor([[15191,   374, 18482, 65083,    30]]), 'attention_mask': tensor([[1, 1, 1, 1, 1]])}"
      ]
     },
     "execution_count": 14,
     "metadata": {},
     "output_type": "execute_result"
    }
   ],
   "source": [
    "input_text = 'Who is Raoha?'\n",
    "inputs = tokenizer(input_text,return_tensors='pt')\n",
    "inputs"
   ]
  },
  {
   "cell_type": "code",
   "execution_count": 16,
   "id": "c4cf7671-23eb-4948-94c5-bc1e945a9060",
   "metadata": {},
   "outputs": [],
   "source": [
    "device = 'cuda' if torch.cuda.is_available() else 'cpu'\n",
    "model.to(device)\n",
    "inputs = {key: value.to(device) for key, value in inputs.items()}"
   ]
  },
  {
   "cell_type": "code",
   "execution_count": 18,
   "id": "65e56a24-d69e-4b4d-af8f-e0e210f322ce",
   "metadata": {},
   "outputs": [
    {
     "name": "stderr",
     "output_type": "stream",
     "text": [
      "Setting `pad_token_id` to `eos_token_id`:151643 for open-end generation.\n",
      "Both `max_new_tokens` (=2048) and `max_length`(=20) seem to have been set. `max_new_tokens` will take precedence. Please refer to the documentation for more information. (https://huggingface.co/docs/transformers/main/en/main_classes/text_generation)\n"
     ]
    },
    {
     "data": {
      "text/plain": [
       "'Who is Raoha? Raoha is a character from the popular animated series \"The Simpsons.\" She is a young girl who is struggling to find her place in the world and is often seen as a symbol of the struggles and challenges that many people face. She is also a recurring character in the show, and her story is often used to illustrate the themes of the show, such as the importance of family, the power of friendship, and the challenges of growing up.'"
      ]
     },
     "execution_count": 18,
     "metadata": {},
     "output_type": "execute_result"
    }
   ],
   "source": [
    "with torch.no_grad():\n",
    "    output = model.generate(**inputs, max_length=20)\n",
    "response = tokenizer.decode(output[0], skip_special_tokens=True)\n",
    "response"
   ]
  },
  {
   "cell_type": "code",
   "execution_count": null,
   "id": "2d00d05c-b261-40d5-a010-5bfc2c753c72",
   "metadata": {},
   "outputs": [],
   "source": []
  }
 ],
 "metadata": {
  "kernelspec": {
   "display_name": "Python [conda env:DeepSeekTest]",
   "language": "python",
   "name": "conda-env-DeepSeekTest-py"
  },
  "language_info": {
   "codemirror_mode": {
    "name": "ipython",
    "version": 3
   },
   "file_extension": ".py",
   "mimetype": "text/x-python",
   "name": "python",
   "nbconvert_exporter": "python",
   "pygments_lexer": "ipython3",
   "version": "3.10.16"
  }
 },
 "nbformat": 4,
 "nbformat_minor": 5
}
